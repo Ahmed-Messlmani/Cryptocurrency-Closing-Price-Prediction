{
  "nbformat": 4,
  "nbformat_minor": 0,
  "metadata": {
    "colab": {
      "name": " Cryptocurrency Closing Price Prediction Competition.ipynb",
      "provenance": [],
      "collapsed_sections": []
    },
    "kernelspec": {
      "name": "python3",
      "display_name": "Python 3"
    },
    "language_info": {
      "name": "python"
    }
  },
  "cells": [
    {
      "cell_type": "markdown",
      "metadata": {
        "id": "cHrS2RJnLjX-"
      },
      "source": [
        "# Libraries"
      ]
    },
    {
      "cell_type": "code",
      "metadata": {
        "id": "7SGWRo0JWi8r"
      },
      "source": [
        "#Importing all the librairies we'll need\n",
        "import pandas as pd\n",
        "import numpy as np\n",
        "from sklearn.pipeline import make_pipeline\n",
        "from sklearn.tree import DecisionTreeRegressor\n",
        "from sklearn import linear_model\n",
        "from sklearn import preprocessing\n",
        "from sklearn.metrics import explained_variance_score\n",
        "from sklearn.metrics import mean_absolute_error,mean_squared_error,r2_score\n",
        "from sklearn.linear_model import LinearRegression,Ridge\n",
        "from sklearn.model_selection import train_test_split, cross_val_score,KFold\n",
        "from xgboost import XGBRegressor\n",
        "from sklearn.ensemble import StackingRegressor,VotingRegressor,BaggingRegressor,ExtraTreesRegressor,RandomForestRegressor,GradientBoostingRegressor\n",
        "from sklearn.cluster import KMeans\n",
        "\n"
      ],
      "execution_count": null,
      "outputs": []
    },
    {
      "cell_type": "markdown",
      "metadata": {
        "id": "vB1p2z3nLnOA"
      },
      "source": [
        "# Data"
      ]
    },
    {
      "cell_type": "code",
      "metadata": {
        "colab": {
          "base_uri": "https://localhost:8080/"
        },
        "id": "IeGoaEszzfJT",
        "outputId": "0ebd93b1-622d-4a18-ed75-acc3508ce4a9"
      },
      "source": [
        "from google.colab import drive\n",
        "drive.mount('/content/drive')"
      ],
      "execution_count": null,
      "outputs": [
        {
          "output_type": "stream",
          "name": "stdout",
          "text": [
            "Mounted at /content/drive\n"
          ]
        }
      ]
    },
    {
      "cell_type": "code",
      "metadata": {
        "id": "4PhyjbhyWsHW"
      },
      "source": [
        "train=pd.read_csv(\"/content/drive/MyDrive/ZINDI/Cryptocurrency Closing Price Prediction/Train.csv\")"
      ],
      "execution_count": null,
      "outputs": []
    },
    {
      "cell_type": "code",
      "metadata": {
        "id": "HvrbSdDCW5Er"
      },
      "source": [
        "test=pd.read_csv(\"/content/drive/MyDrive/ZINDI/Cryptocurrency Closing Price Prediction/Test.csv\")"
      ],
      "execution_count": null,
      "outputs": []
    },
    {
      "cell_type": "code",
      "metadata": {
        "id": "y9wtRsLlW7k8"
      },
      "source": [
        "settozero=test.loc[test['open'].isnull()].id"
      ],
      "execution_count": null,
      "outputs": []
    },
    {
      "cell_type": "code",
      "metadata": {
        "id": "AxtuAoV2XENr"
      },
      "source": [
        "train=train.loc[train['close'].isnull()==False]"
      ],
      "execution_count": null,
      "outputs": []
    },
    {
      "cell_type": "markdown",
      "metadata": {
        "id": "VVVNJ9FkLrJc"
      },
      "source": [
        "# Modeling"
      ]
    },
    {
      "cell_type": "code",
      "metadata": {
        "id": "QGXXUOaEXdy8"
      },
      "source": [
        "kfolds=KFold(n_splits=5, shuffle=True, random_state=1994)"
      ],
      "execution_count": null,
      "outputs": []
    },
    {
      "cell_type": "code",
      "metadata": {
        "id": "9cjYrHxNxj94",
        "colab": {
          "base_uri": "https://localhost:8080/"
        },
        "outputId": "df99d6af-7f3c-45ee-e9ad-df87f1469a0e"
      },
      "source": [
        "X=train[['high','low','open','market_cap','price_score','volatility','galaxy_score','percent_change_24h_rank','percent_change_24h','market_cap_global','market_cap_rank']]\n",
        "y = train.close.astype(float)\n",
        "\n",
        "feat=X.columns\n",
        "kmeans = KMeans(n_clusters=5, random_state=50)\n",
        "X[\"cluster\"]=kmeans.fit_predict(X.fillna(0))\n",
        "test[\"cluster\"]=kmeans.predict(test[feat].fillna(0))"
      ],
      "execution_count": null,
      "outputs": [
        {
          "output_type": "stream",
          "name": "stderr",
          "text": [
            "/usr/local/lib/python3.7/dist-packages/ipykernel_launcher.py:6: SettingWithCopyWarning: \n",
            "A value is trying to be set on a copy of a slice from a DataFrame.\n",
            "Try using .loc[row_indexer,col_indexer] = value instead\n",
            "\n",
            "See the caveats in the documentation: https://pandas.pydata.org/pandas-docs/stable/user_guide/indexing.html#returning-a-view-versus-a-copy\n",
            "  \n"
          ]
        }
      ]
    },
    {
      "cell_type": "code",
      "metadata": {
        "colab": {
          "base_uri": "https://localhost:8080/"
        },
        "id": "zODeXVZNz7ij",
        "outputId": "d22483e4-fdf6-4218-fe08-41135da48704"
      },
      "source": [
        "y_pred_tot=[]\n",
        "tot_auc=[]\n",
        "tot=[]\n",
        "rmse_score=[]\n",
        "oof = np.zeros(len(X))\n",
        "models = [('ridge',make_pipeline(preprocessing.RobustScaler(),BaggingRegressor(Ridge(alpha=0.001),n_estimators=50,random_state=50))),\n",
        "          ('linearregression',make_pipeline(preprocessing.RobustScaler(),BaggingRegressor(linear_model.LinearRegression(),random_state=50,n_estimators=10))),\n",
        "          ('bayesianopt',make_pipeline(preprocessing.RobustScaler(),BaggingRegressor(linear_model.BayesianRidge(n_iter=1000),random_state=50,n_estimators=10))),\n",
        "          ('et',make_pipeline(preprocessing.RobustScaler(),ExtraTreesRegressor(random_state=50,n_estimators=220,max_depth=15))),\n",
        "          ('gb',make_pipeline(preprocessing.RobustScaler(),GradientBoostingRegressor(random_state=50,learning_rate=0.01,loss='ls',n_estimators=1700,max_depth=5))),\n",
        "          ('rf',make_pipeline(preprocessing.RobustScaler(),RandomForestRegressor(random_state=50,n_estimators=500,max_depth=15))),\n",
        "          ('xgb',make_pipeline(preprocessing.RobustScaler(),XGBRegressor(objective ='reg:tweedie',n_estimators=2500,learning_rate=0.01,max_depth=15,random_state=50,eval_metric='rmse',reg_lambda=0.5,reg_alpha=0.01,subsample=0.9)))\n",
        "\n",
        "          ]\n",
        "X=X.fillna(-1)\n",
        "for ind,(ind_train,ind_val) in (enumerate (kfolds.split(X,y))): \n",
        "    X_train,X_val = X.iloc[ind_train],X.iloc[ind_val] \n",
        "    y_train,y_val = y.iloc[ind_train],y.iloc[ind_val]\n",
        "  \n",
        "    model =StackingRegressor(estimators=models,final_estimator=BaggingRegressor(linear_model.LinearRegression(),random_state=50,n_estimators=15))\n",
        "    model.fit(X_train,y_train)\n",
        "    val_pred = model.predict(X_val)\n",
        "    oof[ind_val] = val_pred.clip(0)\n",
        "    score_val=np.sqrt(mean_squared_error(y_val, val_pred))\n",
        "    print(score_val)\n",
        "    test_pred = model.predict(test[X.columns].fillna(-1))                                         \n",
        "    y_pred_tot.append(test_pred)\n",
        "    rmse_score.append(score_val)\n",
        "print('*'*25)\n",
        "print(np.mean(rmse_score,0))"
      ],
      "execution_count": null,
      "outputs": [
        {
          "output_type": "stream",
          "name": "stdout",
          "text": [
            "49.35149064399218\n",
            "52.227968991478384\n",
            "51.67935641026512\n",
            "51.34256174309441\n",
            "67.64652711233626\n",
            "*************************\n",
            "54.44958098023326\n"
          ]
        }
      ]
    },
    {
      "cell_type": "code",
      "metadata": {
        "colab": {
          "base_uri": "https://localhost:8080/"
        },
        "id": "Utx0mp7jiG9r",
        "outputId": "b2de7ada-309c-4ee8-8208-bdbad2b6038b"
      },
      "source": [
        "oofD = pd.DataFrame(oof,columns=['OOF'])\n",
        "oofD['id'] = train['id'].values\n",
        "oofD['close'] = y.values\n",
        "\n",
        "newcols = []\n",
        "cols = ['high','low','open']\n",
        "for col in cols :\n",
        "  oofD[col] = X[col].values\n",
        "  oofD[col+'_diff'] = oofD['OOF'] - oofD[col]\n",
        "  newcols.append(col+'_diff')\n",
        "\n",
        "for i in oofD.index:\n",
        "  oofD['OOF'][i]=np.clip(oofD['OOF'][i],oofD['low'][i], oofD['high'][i])\n",
        "oofD['diff'] = oofD['close'] - oofD['OOF']\n",
        "oofD = oofD[['id','OOF','close','diff']+cols+newcols]"
      ],
      "execution_count": null,
      "outputs": [
        {
          "output_type": "stream",
          "name": "stderr",
          "text": [
            "/usr/local/lib/python3.7/dist-packages/ipykernel_launcher.py:13: SettingWithCopyWarning: \n",
            "A value is trying to be set on a copy of a slice from a DataFrame\n",
            "\n",
            "See the caveats in the documentation: https://pandas.pydata.org/pandas-docs/stable/user_guide/indexing.html#returning-a-view-versus-a-copy\n",
            "  del sys.path[0]\n"
          ]
        }
      ]
    },
    {
      "cell_type": "code",
      "metadata": {
        "colab": {
          "base_uri": "https://localhost:8080/"
        },
        "id": "x9tKmxlGkm4C",
        "outputId": "f37675eb-3b87-4c3c-af6e-a114276728c5"
      },
      "source": [
        "mean_squared_error(oofD['close'],oofD['OOF'],squared=False)"
      ],
      "execution_count": null,
      "outputs": [
        {
          "output_type": "execute_result",
          "data": {
            "text/plain": [
              "53.83129861829804"
            ]
          },
          "metadata": {},
          "execution_count": 11
        }
      ]
    },
    {
      "cell_type": "code",
      "metadata": {
        "colab": {
          "base_uri": "https://localhost:8080/"
        },
        "id": "uc5-aDCjBA43",
        "outputId": "2813c0ac-c676-4057-9991-22e74f38d1ad"
      },
      "source": [
        "mean_squared_error(oofD['close'],(oofD['OOF']*1.09-oofD['high']*0.04-oofD['low']*0.04-oofD['open']*0.01),squared=False)"
      ],
      "execution_count": null,
      "outputs": [
        {
          "output_type": "execute_result",
          "data": {
            "text/plain": [
              "53.44813267092467"
            ]
          },
          "metadata": {},
          "execution_count": 12
        }
      ]
    },
    {
      "cell_type": "markdown",
      "metadata": {
        "id": "Vi01V0xPdNw5"
      },
      "source": [
        "# Submission"
      ]
    },
    {
      "cell_type": "code",
      "metadata": {
        "colab": {
          "base_uri": "https://localhost:8080/"
        },
        "id": "nfpNCEjfkL0r",
        "outputId": "94ed89f2-03b3-4e1c-acee-f83f2ab124e3"
      },
      "source": [
        "len(y_pred_tot)"
      ],
      "execution_count": null,
      "outputs": [
        {
          "output_type": "execute_result",
          "data": {
            "text/plain": [
              "5"
            ]
          },
          "metadata": {},
          "execution_count": 14
        }
      ]
    },
    {
      "cell_type": "code",
      "metadata": {
        "id": "_FnKudtKGVxj"
      },
      "source": [
        "predictions=np.mean(y_pred_tot,0)\n",
        "sub_file = test[['id','low','open','high']].fillna(0)\n",
        "sub_file['close']= predictions\n"
      ],
      "execution_count": null,
      "outputs": []
    },
    {
      "cell_type": "code",
      "metadata": {
        "colab": {
          "base_uri": "https://localhost:8080/"
        },
        "id": "TbpB3OdogYPi",
        "outputId": "3ec103bd-9bb6-48c0-b1e8-5beffcfb1838"
      },
      "source": [
        "predictions.shape"
      ],
      "execution_count": null,
      "outputs": [
        {
          "output_type": "execute_result",
          "data": {
            "text/plain": [
              "(6222,)"
            ]
          },
          "metadata": {},
          "execution_count": 16
        }
      ]
    },
    {
      "cell_type": "code",
      "metadata": {
        "colab": {
          "base_uri": "https://localhost:8080/",
          "height": 417
        },
        "id": "mAumQtfrkUl0",
        "outputId": "32739b11-9e5a-4b7b-99be-0fbd8383ec6c"
      },
      "source": [
        "sub_file"
      ],
      "execution_count": null,
      "outputs": [
        {
          "output_type": "execute_result",
          "data": {
            "text/html": [
              "<div>\n",
              "<style scoped>\n",
              "    .dataframe tbody tr th:only-of-type {\n",
              "        vertical-align: middle;\n",
              "    }\n",
              "\n",
              "    .dataframe tbody tr th {\n",
              "        vertical-align: top;\n",
              "    }\n",
              "\n",
              "    .dataframe thead th {\n",
              "        text-align: right;\n",
              "    }\n",
              "</style>\n",
              "<table border=\"1\" class=\"dataframe\">\n",
              "  <thead>\n",
              "    <tr style=\"text-align: right;\">\n",
              "      <th></th>\n",
              "      <th>id</th>\n",
              "      <th>low</th>\n",
              "      <th>open</th>\n",
              "      <th>high</th>\n",
              "      <th>close</th>\n",
              "    </tr>\n",
              "  </thead>\n",
              "  <tbody>\n",
              "    <tr>\n",
              "      <th>0</th>\n",
              "      <td>ID_323Sn2</td>\n",
              "      <td>0.000000</td>\n",
              "      <td>0.000000</td>\n",
              "      <td>0.000000</td>\n",
              "      <td>3707.572266</td>\n",
              "    </tr>\n",
              "    <tr>\n",
              "      <th>1</th>\n",
              "      <td>ID_325SNW</td>\n",
              "      <td>11335.062188</td>\n",
              "      <td>11335.062188</td>\n",
              "      <td>11351.690956</td>\n",
              "      <td>11351.819759</td>\n",
              "    </tr>\n",
              "    <tr>\n",
              "      <th>2</th>\n",
              "      <td>ID_325uzE</td>\n",
              "      <td>6294.714484</td>\n",
              "      <td>6322.560756</td>\n",
              "      <td>6328.362354</td>\n",
              "      <td>6308.574031</td>\n",
              "    </tr>\n",
              "    <tr>\n",
              "      <th>3</th>\n",
              "      <td>ID_328qCx</td>\n",
              "      <td>0.000000</td>\n",
              "      <td>0.000000</td>\n",
              "      <td>0.000000</td>\n",
              "      <td>3707.572266</td>\n",
              "    </tr>\n",
              "    <tr>\n",
              "      <th>4</th>\n",
              "      <td>ID_3293uJ</td>\n",
              "      <td>0.000000</td>\n",
              "      <td>0.000000</td>\n",
              "      <td>0.000000</td>\n",
              "      <td>3707.572266</td>\n",
              "    </tr>\n",
              "    <tr>\n",
              "      <th>...</th>\n",
              "      <td>...</td>\n",
              "      <td>...</td>\n",
              "      <td>...</td>\n",
              "      <td>...</td>\n",
              "      <td>...</td>\n",
              "    </tr>\n",
              "    <tr>\n",
              "      <th>6217</th>\n",
              "      <td>ID_zufSPk</td>\n",
              "      <td>8259.796103</td>\n",
              "      <td>8266.942912</td>\n",
              "      <td>8266.942912</td>\n",
              "      <td>8265.512515</td>\n",
              "    </tr>\n",
              "    <tr>\n",
              "      <th>6218</th>\n",
              "      <td>ID_zuz9yf</td>\n",
              "      <td>10865.827625</td>\n",
              "      <td>10869.612767</td>\n",
              "      <td>10873.493490</td>\n",
              "      <td>10872.361277</td>\n",
              "    </tr>\n",
              "    <tr>\n",
              "      <th>6219</th>\n",
              "      <td>ID_zvrMSX</td>\n",
              "      <td>0.000000</td>\n",
              "      <td>0.000000</td>\n",
              "      <td>0.000000</td>\n",
              "      <td>3707.572266</td>\n",
              "    </tr>\n",
              "    <tr>\n",
              "      <th>6220</th>\n",
              "      <td>ID_zy9Cfv</td>\n",
              "      <td>0.000000</td>\n",
              "      <td>0.000000</td>\n",
              "      <td>0.000000</td>\n",
              "      <td>3707.572266</td>\n",
              "    </tr>\n",
              "    <tr>\n",
              "      <th>6221</th>\n",
              "      <td>ID_zyAFd7</td>\n",
              "      <td>7052.332304</td>\n",
              "      <td>7058.172796</td>\n",
              "      <td>7078.973345</td>\n",
              "      <td>7067.001709</td>\n",
              "    </tr>\n",
              "  </tbody>\n",
              "</table>\n",
              "<p>6222 rows × 5 columns</p>\n",
              "</div>"
            ],
            "text/plain": [
              "             id           low          open          high         close\n",
              "0     ID_323Sn2      0.000000      0.000000      0.000000   3707.572266\n",
              "1     ID_325SNW  11335.062188  11335.062188  11351.690956  11351.819759\n",
              "2     ID_325uzE   6294.714484   6322.560756   6328.362354   6308.574031\n",
              "3     ID_328qCx      0.000000      0.000000      0.000000   3707.572266\n",
              "4     ID_3293uJ      0.000000      0.000000      0.000000   3707.572266\n",
              "...         ...           ...           ...           ...           ...\n",
              "6217  ID_zufSPk   8259.796103   8266.942912   8266.942912   8265.512515\n",
              "6218  ID_zuz9yf  10865.827625  10869.612767  10873.493490  10872.361277\n",
              "6219  ID_zvrMSX      0.000000      0.000000      0.000000   3707.572266\n",
              "6220  ID_zy9Cfv      0.000000      0.000000      0.000000   3707.572266\n",
              "6221  ID_zyAFd7   7052.332304   7058.172796   7078.973345   7067.001709\n",
              "\n",
              "[6222 rows x 5 columns]"
            ]
          },
          "metadata": {},
          "execution_count": 17
        }
      ]
    },
    {
      "cell_type": "code",
      "metadata": {
        "colab": {
          "base_uri": "https://localhost:8080/"
        },
        "id": "BK3uFzNfCWFH",
        "outputId": "1240dc06-d65e-4732-8906-54fcf0b0202a"
      },
      "source": [
        "for i in sub_file.index:\n",
        "  sub_file['close'][i]=np.clip(sub_file['close'][i],sub_file['low'][i], sub_file['high'][i])"
      ],
      "execution_count": null,
      "outputs": [
        {
          "output_type": "stream",
          "name": "stderr",
          "text": [
            "/usr/local/lib/python3.7/dist-packages/ipykernel_launcher.py:2: SettingWithCopyWarning: \n",
            "A value is trying to be set on a copy of a slice from a DataFrame\n",
            "\n",
            "See the caveats in the documentation: https://pandas.pydata.org/pandas-docs/stable/user_guide/indexing.html#returning-a-view-versus-a-copy\n",
            "  \n"
          ]
        }
      ]
    },
    {
      "cell_type": "code",
      "metadata": {
        "id": "4AYU_WjjG74A"
      },
      "source": [
        "for i in settozero:\n",
        "  sub_file.loc[sub_file['id']==i,'close']=0"
      ],
      "execution_count": null,
      "outputs": []
    },
    {
      "cell_type": "code",
      "metadata": {
        "colab": {
          "base_uri": "https://localhost:8080/"
        },
        "id": "NbwHNd4hBKzv",
        "outputId": "d1d0b56a-1eb8-4b26-9687-2acf71d4ba5c"
      },
      "source": [
        "mean_squared_error(oofD['close'],(oofD['OOF']*1.09-oofD['high']*0.04-oofD['low']*0.04-oofD['open']*0.01),squared=False)"
      ],
      "execution_count": null,
      "outputs": [
        {
          "output_type": "execute_result",
          "data": {
            "text/plain": [
              "53.44813267092467"
            ]
          },
          "metadata": {},
          "execution_count": 20
        }
      ]
    },
    {
      "cell_type": "code",
      "metadata": {
        "id": "misIBJeYG_Iu"
      },
      "source": [
        "sub_file['close'] = sub_file['close']*1.09-sub_file['high']*0.04-sub_file['low']*0.04-sub_file['open']*0.01"
      ],
      "execution_count": null,
      "outputs": []
    },
    {
      "cell_type": "code",
      "metadata": {
        "id": "yJt2CZ4OHB2O"
      },
      "source": [
        "sub_file[['id','close']].to_csv('submitOOF53.44.csv', index = False)"
      ],
      "execution_count": null,
      "outputs": []
    }
  ]
}